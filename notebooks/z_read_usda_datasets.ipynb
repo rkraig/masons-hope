{
 "cells": [
  {
   "cell_type": "code",
   "execution_count": 1,
   "id": "280ced59",
   "metadata": {},
   "outputs": [],
   "source": [
    "import os\n",
    "import pandas as pd\n",
    "import re"
   ]
  },
  {
   "cell_type": "code",
   "execution_count": 2,
   "id": "b7bab609",
   "metadata": {},
   "outputs": [
    {
     "name": "stdout",
     "output_type": "stream",
     "text": [
      "..\\data\\raw\\USDA_FoodEnvironmentAtlas_-_Access_and_Proximity_to_Grocery_Store.csv\n",
      "..\\data\\raw\\USDA_FoodEnvironmentAtlas_-_Food_Assistance.csv\n",
      "..\\data\\raw\\USDA_FoodEnvironmentAtlas_-_Food_Taxes.csv\n",
      "..\\data\\raw\\USDA_FoodEnvironmentAtlas_-_Health_and_Physical_Activity.csv\n",
      "..\\data\\raw\\USDA_FoodEnvironmentAtlas_-_Local_Foods.csv\n",
      "..\\data\\raw\\USDA_FoodEnvironmentAtlas_-_Restaurant_Availability_and_Expenditures.csv\n",
      "..\\data\\raw\\USDA_FoodEnvironmentAtlas_-_Socioeconomic_Characteristics.csv\n",
      "..\\data\\raw\\USDA_FoodEnvironmentAtlas_-_State_Food_Insecurity.csv\n",
      "..\\data\\raw\\USDA_FoodEnvironmentAtlas_-_Store_Availability.csv\n",
      "..\\data\\raw\\USDA_FoodEnvironmentAtlas_-_Supplemental_Data_-_State.csv\n",
      "..\\data\\raw\\USDA_FoodEnvironmentAtlas_-_Variable_List.csv\n"
     ]
    }
   ],
   "source": [
    "data_dir = '..'+os.path.sep+'data'\n",
    "raw_data_dir = os.path.join(data_dir,'raw')\n",
    "clean_data_dir = os.path.join(data_dir,'clean')\n",
    "usda_filenames = [os.path.join(raw_data_dir,f) for f in os.listdir(raw_data_dir) if f.startswith('USDA')]\n",
    "for f in usda_filenames:\n",
    "    print(f)"
   ]
  },
  {
   "cell_type": "code",
   "execution_count": 3,
   "id": "36df32a4",
   "metadata": {},
   "outputs": [],
   "source": [
    "for f in usda_filenames:\n",
    "    df=pd.read_csv(f)\n",
    "    # add col for county vs. city:\n",
    "    if ('County' in df.columns) and ('State' in df.columns):\n",
    "        df = df[df.State=='VA']\n",
    "        if (len(df)==134):\n",
    "            df['geo_type'] = pd.Series(['county']*95+['city']*39,index=df.index)\n",
    "    # remove extra commas, convert to numeric:\n",
    "    df=df.applymap(lambda x: x if not(isinstance(x,str)) else re.sub(',(?=\\d)','',x))\n",
    "    for c in df:\n",
    "        try:\n",
    "            df[c] = df[c].astype(float)\n",
    "        except:\n",
    "            pass\n",
    "    df.to_csv(f.replace(os.path.sep+'raw'+os.path.sep,os.path.sep+'clean'+os.path.sep))"
   ]
  },
  {
   "cell_type": "code",
   "execution_count": null,
   "id": "deebbe79",
   "metadata": {},
   "outputs": [],
   "source": []
  }
 ],
 "metadata": {
  "kernelspec": {
   "display_name": "Python 3",
   "language": "python",
   "name": "python3"
  },
  "language_info": {
   "codemirror_mode": {
    "name": "ipython",
    "version": 3
   },
   "file_extension": ".py",
   "mimetype": "text/x-python",
   "name": "python",
   "nbconvert_exporter": "python",
   "pygments_lexer": "ipython3",
   "version": "3.8.5"
  },
  "toc": {
   "base_numbering": 1,
   "nav_menu": {},
   "number_sections": true,
   "sideBar": true,
   "skip_h1_title": false,
   "title_cell": "Table of Contents",
   "title_sidebar": "Contents",
   "toc_cell": false,
   "toc_position": {
    "height": "calc(100% - 180px)",
    "left": "10px",
    "top": "150px",
    "width": "207.273px"
   },
   "toc_section_display": true,
   "toc_window_display": true
  }
 },
 "nbformat": 4,
 "nbformat_minor": 5
}
